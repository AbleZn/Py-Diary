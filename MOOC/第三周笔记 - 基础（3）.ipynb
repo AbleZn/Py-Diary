{
 "cells": [
  {
   "cell_type": "code",
   "execution_count": 1,
   "metadata": {},
   "outputs": [
    {
     "name": "stdout",
     "output_type": "stream",
     "text": [
      "1 Monday\n",
      "2 Tuesday\n",
      "3 Wednesday\n",
      "4 Thursday\n",
      "5 Friday\n",
      "6 Saturday\n",
      "7 Sunday\n"
     ]
    }
   ],
   "source": [
    "week = ['Monday', 'Tuesday', 'Wednesday', 'Thursday', 'Friday']\n",
    "weekend = ['Saturday', 'Sunday']\n",
    "week.extend(weekend) #如果用append，会把列表放进week里。\n",
    "for i,j in enumerate(week):\n",
    "    print(i+1, j)"
   ]
  },
  {
   "cell_type": "code",
   "execution_count": null,
   "metadata": {},
   "outputs": [],
   "source": [
    "#列表方法\n",
    "append()\n",
    "copy()\n",
    "count()\n",
    "extend()\n",
    "index()\n",
    "insert()\n",
    "pop()\n",
    "remove()\n",
    "reverse()\n",
    "sort()"
   ]
  },
  {
   "cell_type": "code",
   "execution_count": null,
   "metadata": {},
   "outputs": [],
   "source": [
    "sort(key = len) 按长度进行排序"
   ]
  },
  {
   "cell_type": "code",
   "execution_count": null,
   "metadata": {},
   "outputs": [],
   "source": [
    "列表解析\n",
    "[expression for expr in sequence\n",
    "            for expre2 in sequen2\n",
    "            for expreN in sequenceN\n",
    "            if condition]"
   ]
  },
  {
   "cell_type": "code",
   "execution_count": null,
   "metadata": {},
   "outputs": [],
   "source": [
    "#元组\n",
    "列表元素可变，元组元素不可变\n",
    "元组的作用\n",
    "    - 映射类型中作为键来使用\n",
    "    - 函数的特殊类型参数\n",
    "    - 作为函数的特殊返回值"
   ]
  },
  {
   "cell_type": "code",
   "execution_count": 13,
   "metadata": {},
   "outputs": [
    {
     "name": "stdout",
     "output_type": "stream",
     "text": [
      "hello\n",
      "('hangzhou', 'beijing', 'suzhou')\n"
     ]
    }
   ],
   "source": [
    "#特殊类型参数\n",
    "def foo(args1, *argst): #有点贪婪模式的意思\n",
    "    print(args1)\n",
    "    print(argst)\n",
    "\n",
    "foo('hello', 'hangzhou', 'beijing', 'suzhou')"
   ]
  },
  {
   "cell_type": "code",
   "execution_count": 10,
   "metadata": {},
   "outputs": [
    {
     "data": {
      "text/plain": [
       "(1, 2, 3)"
      ]
     },
     "execution_count": 10,
     "metadata": {},
     "output_type": "execute_result"
    }
   ],
   "source": [
    "#作为特殊返回类型\n",
    "def foo():\n",
    "    return 1,2,3\n",
    "foo()"
   ]
  },
  {
   "cell_type": "code",
   "execution_count": 12,
   "metadata": {},
   "outputs": [
    {
     "name": "stdout",
     "output_type": "stream",
     "text": [
      "1 spring\n",
      "2 is\n",
      "3 nice\n",
      "4 and\n",
      "5 fun\n"
     ]
    }
   ],
   "source": [
    "#enumerate-test\n",
    "test = ['spring', 'is', 'nice','and', 'fun']\n",
    "\n",
    "for index, word in enumerate(test, 1):\n",
    "    print(index, word)"
   ]
  }
 ],
 "metadata": {
  "kernelspec": {
   "display_name": "Python 3",
   "language": "python",
   "name": "python3"
  },
  "language_info": {
   "codemirror_mode": {
    "name": "ipython",
    "version": 3
   },
   "file_extension": ".py",
   "mimetype": "text/x-python",
   "name": "python",
   "nbconvert_exporter": "python",
   "pygments_lexer": "ipython3",
   "version": "3.6.4"
  }
 },
 "nbformat": 4,
 "nbformat_minor": 2
}
