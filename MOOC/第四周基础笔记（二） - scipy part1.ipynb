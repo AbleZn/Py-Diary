{
 "cells": [
  {
   "cell_type": "markdown",
   "metadata": {},
   "source": [
    "- Numpy 线性代数和随机数处理等\n",
    "- scipy核心库 有效计算numpy矩阵\n",
    "- matplotlib 基于numpy\n",
    "- pandas 基于scipy和numpy，具有高效的series和dataframe数据结构"
   ]
  },
  {
   "cell_type": "markdown",
   "metadata": {},
   "source": [
    "ndarray 有丰富的函数\n",
    "- 维度称为轴，轴的个数成为秩\n",
    "- 基本属性\n",
    " · ndarray.ndim 秩\n",
    " · ndarray.shape 维度\n",
    " · ndarray.size 元素总个数\n",
    " · ndarray.dtype 元素类型\n",
    " · ndarray.itemsize 元素字节大小"
   ]
  },
  {
   "cell_type": "code",
   "execution_count": 8,
   "metadata": {},
   "outputs": [
    {
     "name": "stdout",
     "output_type": "stream",
     "text": [
      "[1 2 3]\n",
      "[[1 2 3]\n",
      " [4 5 6]]\n",
      "[1.  1.5 2.  2.5 3.  3.5 4.  4.5]\n",
      "[[0.02544498 0.39981605]\n",
      " [0.14797923 0.27273083]]\n",
      "[1.  1.1 1.2 1.3 1.4 1.5 1.6 1.7 1.8 1.9]\n"
     ]
    }
   ],
   "source": [
    "import numpy as np\n",
    "aArray = np.array([1,2,3])\n",
    "bArray = np.array([(1,2,3),(4,5,6)])\n",
    "print(aArray)\n",
    "print(bArray)\n",
    "print(np.arange(1,5,0.5))\n",
    "print(np.random.random((2,2)))\n",
    "print(np.linspace(1,2,10,endpoint=False))"
   ]
  },
  {
   "cell_type": "code",
   "execution_count": 15,
   "metadata": {},
   "outputs": [
    {
     "name": "stdout",
     "output_type": "stream",
     "text": [
      "[[ 1.  2.  3.  4.  5.  6.  7.  8.  9.]\n",
      " [ 2.  4.  6.  8. 10. 12. 14. 16. 18.]\n",
      " [ 3.  6.  9. 12. 15. 18. 21. 24. 27.]\n",
      " [ 4.  8. 12. 16. 20. 24. 28. 32. 36.]\n",
      " [ 5. 10. 15. 20. 25. 30. 35. 40. 45.]\n",
      " [ 6. 12. 18. 24. 30. 36. 42. 48. 54.]\n",
      " [ 7. 14. 21. 28. 35. 42. 49. 56. 63.]\n",
      " [ 8. 16. 24. 32. 40. 48. 56. 64. 72.]\n",
      " [ 9. 18. 27. 36. 45. 54. 63. 72. 81.]]\n",
      "2\n",
      "(9, 9)\n",
      "81\n"
     ]
    }
   ],
   "source": [
    "import numpy as np\n",
    "c = np.fromfunction(lambda i,j:(i+1)*(j+1),(9,9))\n",
    "print(c)\n",
    "print(c.ndim)\n",
    "print(c.shape)\n",
    "print(c.size)"
   ]
  },
  {
   "cell_type": "code",
   "execution_count": 17,
   "metadata": {},
   "outputs": [
    {
     "name": "stdout",
     "output_type": "stream",
     "text": [
      "30.0\n",
      "[1. 3. 5. 7.]\n"
     ]
    }
   ],
   "source": [
    "import numpy as np\n",
    "a = np.arange(1,5,dtype=np.float64)\n",
    "x = np.power(a, 2).sum()\n",
    "print(x)\n",
    "y = np.add(a, np.arange(4))\n",
    "print(y)"
   ]
  },
  {
   "cell_type": "code",
   "execution_count": null,
   "metadata": {},
   "outputs": [],
   "source": []
  }
 ],
 "metadata": {
  "kernelspec": {
   "display_name": "Python 3",
   "language": "python",
   "name": "python3"
  },
  "language_info": {
   "codemirror_mode": {
    "name": "ipython",
    "version": 3
   },
   "file_extension": ".py",
   "mimetype": "text/x-python",
   "name": "python",
   "nbconvert_exporter": "python",
   "pygments_lexer": "ipython3",
   "version": "3.6.4"
  }
 },
 "nbformat": 4,
 "nbformat_minor": 2
}
