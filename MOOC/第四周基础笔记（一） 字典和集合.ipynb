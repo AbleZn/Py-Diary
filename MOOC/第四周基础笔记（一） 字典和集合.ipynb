{
 "cells": [
  {
   "cell_type": "markdown",
   "metadata": {},
   "source": [
    "#可以创建字典的三种内容\n",
    "    1. 列表内元组('zhangsan',20)\n",
    "    2. 列表（[['zhangsan',20],['xiaoli',20]]\n",
    "    3. 等号(zhangsan=20,xiali=20)\n",
    "    dict()\n",
    "    也可以将两个列表内以zip()形式合成一个字典\n",
    "#设定默认值\n",
    "    adict = {}.fromkeys(('xiaoli','xiaowang'),2000)\n",
    "#字典内建函数\n",
    "    dict()\n",
    "    len()\n",
    "    hash()"
   ]
  },
  {
   "cell_type": "code",
   "execution_count": null,
   "metadata": {},
   "outputs": [],
   "source": [
    "#字典方法\n",
    "dict.keys()\n",
    "dict.values()\n",
    "for k,v in dict.items():\n",
    "    print(k,v)\n",
    "\n",
    "old_dict.update(new_dict) #添加新键值并且改变原值"
   ]
  },
  {
   "cell_type": "code",
   "execution_count": null,
   "metadata": {},
   "outputs": [],
   "source": [
    "#通过可变长关键字参数设定字典\n",
    "def func(args1, *argst, **argsd):\n",
    "    print(args1)#无 - 字符串\n",
    "    print(argst)#一星号 - 元组\n",
    "    print(argsd)#两星号 - 字典"
   ]
  },
  {
   "cell_type": "code",
   "execution_count": null,
   "metadata": {},
   "outputs": [],
   "source": [
    "集合：一个无需不重复的元素的组合\n",
    "    - 可变集合（set） --就是set函数\n",
    "        集合关系运算\n",
    "        - &交集    \n",
    "        - | 并集\n",
    "        - - 求不同\n",
    "        - ^\n",
    "        运算符可复合\n",
    "        集合内建函数\n",
    "        - issubset(t)\n",
    "        - issuperset(t)\n",
    "        - union(t)\n",
    "        - intersection(t)\n",
    "        - difference(t)\n",
    "        - symmetric_difference(t)\n",
    "        - copy(t)\n",
    "    - 不可变集合（frozenset）"
   ]
  }
 ],
 "metadata": {
  "kernelspec": {
   "display_name": "Python 3",
   "language": "python",
   "name": "python3"
  },
  "language_info": {
   "codemirror_mode": {
    "name": "ipython",
    "version": 3
   },
   "file_extension": ".py",
   "mimetype": "text/x-python",
   "name": "python",
   "nbconvert_exporter": "python",
   "pygments_lexer": "ipython3",
   "version": "3.6.4"
  }
 },
 "nbformat": 4,
 "nbformat_minor": 2
}
