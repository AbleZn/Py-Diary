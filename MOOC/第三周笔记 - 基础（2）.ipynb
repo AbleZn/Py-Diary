{
 "cells": [
  {
   "cell_type": "code",
   "execution_count": null,
   "metadata": {},
   "outputs": [],
   "source": [
    "#序列\n",
    "序列 - 索引\n",
    "相关操作\n",
    "    - 标准类型运算符\n",
    "    - 序列类型运算符\n",
    "    - 内建函数\n",
    "        - 序列类型转换内建函数（list，str, tuple）\n",
    "        - 其他内建函数（enumerate, reversed, len, max, min, sorted, sum, zip）"
   ]
  },
  {
   "cell_type": "code",
   "execution_count": null,
   "metadata": {},
   "outputs": [],
   "source": [
    "#字符串\n",
    "字符串的不同表现形式"
   ]
  },
  {
   "cell_type": "code",
   "execution_count": 1,
   "metadata": {},
   "outputs": [
    {
     "name": "stdout",
     "output_type": "stream",
     "text": [
      "There are 2 punctuation marks.\n"
     ]
    }
   ],
   "source": [
    "aStr = \"Hello, world!\"\n",
    "bStr = aStr[:7] + \"Python!\" #替换world\n",
    "count = 0\n",
    "for ch in bStr[:]:\n",
    "    if ch in ',.!?':\n",
    "        count += 1\n",
    "print('There are %d punctuation marks.' %(count)) #format_string % (arguments_to_convert) - 常见于c语言中\n",
    "print('There are {0:d} punctuation marks.'.format(count)) #format_string.format(arguments_to_convert)用这个"
   ]
  },
  {
   "cell_type": "code",
   "execution_count": 2,
   "metadata": {},
   "outputs": [
    {
     "data": {
      "text/plain": [
       "['__add__',\n",
       " '__class__',\n",
       " '__contains__',\n",
       " '__delattr__',\n",
       " '__dir__',\n",
       " '__doc__',\n",
       " '__eq__',\n",
       " '__format__',\n",
       " '__ge__',\n",
       " '__getattribute__',\n",
       " '__getitem__',\n",
       " '__getnewargs__',\n",
       " '__gt__',\n",
       " '__hash__',\n",
       " '__init__',\n",
       " '__init_subclass__',\n",
       " '__iter__',\n",
       " '__le__',\n",
       " '__len__',\n",
       " '__lt__',\n",
       " '__mod__',\n",
       " '__mul__',\n",
       " '__ne__',\n",
       " '__new__',\n",
       " '__reduce__',\n",
       " '__reduce_ex__',\n",
       " '__repr__',\n",
       " '__rmod__',\n",
       " '__rmul__',\n",
       " '__setattr__',\n",
       " '__sizeof__',\n",
       " '__str__',\n",
       " '__subclasshook__',\n",
       " 'capitalize',\n",
       " 'casefold',\n",
       " 'center',\n",
       " 'count',\n",
       " 'encode',\n",
       " 'endswith',\n",
       " 'expandtabs',\n",
       " 'find',\n",
       " 'format',\n",
       " 'format_map',\n",
       " 'index',\n",
       " 'isalnum',\n",
       " 'isalpha',\n",
       " 'isdecimal',\n",
       " 'isdigit',\n",
       " 'isidentifier',\n",
       " 'islower',\n",
       " 'isnumeric',\n",
       " 'isprintable',\n",
       " 'isspace',\n",
       " 'istitle',\n",
       " 'isupper',\n",
       " 'join',\n",
       " 'ljust',\n",
       " 'lower',\n",
       " 'lstrip',\n",
       " 'maketrans',\n",
       " 'partition',\n",
       " 'replace',\n",
       " 'rfind',\n",
       " 'rindex',\n",
       " 'rjust',\n",
       " 'rpartition',\n",
       " 'rsplit',\n",
       " 'rstrip',\n",
       " 'split',\n",
       " 'splitlines',\n",
       " 'startswith',\n",
       " 'strip',\n",
       " 'swapcase',\n",
       " 'title',\n",
       " 'translate',\n",
       " 'upper',\n",
       " 'zfill']"
      ]
     },
     "execution_count": 2,
     "metadata": {},
     "output_type": "execute_result"
    }
   ],
   "source": [
    "dir(str)"
   ]
  },
  {
   "cell_type": "code",
   "execution_count": null,
   "metadata": {},
   "outputs": [],
   "source": [
    "#join，将字符串连接起来\n",
    "#encode，编码，decode,解码"
   ]
  },
  {
   "cell_type": "code",
   "execution_count": 11,
   "metadata": {},
   "outputs": [
    {
     "name": "stdout",
     "output_type": "stream",
     "text": [
      "it is not title format.\n",
      "No Pain, No Gain\n"
     ]
    }
   ],
   "source": [
    "#句中双引号的内容，判断是否满足标题格式，不管是否满足都将其转变为标题格式输出\n",
    "astr = \"What do you think of the saying 'No pain, No gain'?\"\n",
    "lindex = astr.index(\"\\'\",0,len(astr))\n",
    "rindex = astr.rindex(\"\\'\",0,len(astr))\n",
    "tempstr = astr[lindex+1:rindex] #或 tempstr=astr.split(\"\\'\")[1]\n",
    "if tempstr.istitle():\n",
    "    print('It is title format.')\n",
    "else:\n",
    "    print('it is not title format.')\n",
    "print(tempstr.title())"
   ]
  },
  {
   "cell_type": "code",
   "execution_count": null,
   "metadata": {},
   "outputs": [],
   "source": [
    "\\ 转义字符\n",
    "\\0 空字符\n",
    "\\b 退格"
   ]
  }
 ],
 "metadata": {
  "kernelspec": {
   "display_name": "Python 3",
   "language": "python",
   "name": "python3"
  },
  "language_info": {
   "codemirror_mode": {
    "name": "ipython",
    "version": 3
   },
   "file_extension": ".py",
   "mimetype": "text/x-python",
   "name": "python",
   "nbconvert_exporter": "python",
   "pygments_lexer": "ipython3",
   "version": "3.6.4"
  }
 },
 "nbformat": 4,
 "nbformat_minor": 2
}
