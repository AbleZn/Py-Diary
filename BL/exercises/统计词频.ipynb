{
 "cells": [
  {
   "cell_type": "code",
   "execution_count": 8,
   "metadata": {},
   "outputs": [
    {
     "name": "stdout",
     "output_type": "stream",
     "text": [
      "{'As': 1, 'I': 1, 'explained': 1, 'in': 1, 'my': 1, 'temporary': 1, 'certification': 1, 'of': 5, 'October': 1, 'the': 6, 'American': 1, 'people': 1, 'expect': 1, 'their': 1, 'Government': 1, 'to': 4, 'provide': 1, 'as': 3, 'much': 1, 'access': 1, 'possible': 1, 'President': 1, 'John': 1, 'Kennedy': 1, 'Assassination': 1, 'Records': 1, 'so': 1, 'that': 2, 'they': 2, 'may': 1, 'deserve': 1, 'finally': 1, 'be': 2, 'fully': 1, 'informed': 1, 'about': 1, 'all': 2, 'aspects': 1, 'this': 1, 'pivotal': 1, 'Over': 1, 'past': 1, 'executive': 1, 'departments': 1, 'and': 3, 'agencies': 1, 'have': 2, 'reviewed': 1, 'information': 2, 'within': 1, 'records': 1, 'temporarily': 1, 'withheld': 1, 'from': 1, 'release': 1, 'proposed': 1, 'Archivist': 1, 'United': 1, 'States': 1, 'certain': 1, 'should': 1, 'continue': 1, 'redacted': 1, 'because': 1, 'identifiable': 1, 'national': 1, 'law': 1, 'foreign': 1, 'affairs': 1}\n",
      "[('the', 6), ('of', 5), ('to', 4), ('as', 3), ('and', 3), ('that', 2), ('they', 2), ('be', 2), ('all', 2), ('have', 2), ('information', 2), ('As', 1), ('I', 1), ('explained', 1), ('in', 1), ('my', 1), ('temporary', 1), ('certification', 1), ('October', 1), ('American', 1), ('people', 1), ('expect', 1), ('their', 1), ('Government', 1), ('provide', 1), ('much', 1), ('access', 1), ('possible', 1), ('President', 1), ('John', 1), ('Kennedy', 1), ('Assassination', 1), ('Records', 1), ('so', 1), ('may', 1), ('deserve', 1), ('finally', 1), ('fully', 1), ('informed', 1), ('about', 1), ('aspects', 1), ('this', 1), ('pivotal', 1), ('Over', 1), ('past', 1), ('executive', 1), ('departments', 1), ('agencies', 1), ('reviewed', 1), ('within', 1), ('records', 1), ('temporarily', 1), ('withheld', 1), ('from', 1), ('release', 1), ('proposed', 1), ('Archivist', 1), ('United', 1), ('States', 1), ('certain', 1), ('should', 1), ('continue', 1), ('redacted', 1), ('because', 1), ('identifiable', 1), ('national', 1), ('law', 1), ('foreign', 1), ('affairs', 1)]\n"
     ]
    }
   ],
   "source": [
    "text = \"As I explained in my temporary certification of October 26, 2017, the American people expect their Government to provide as much access as possible to the President John F. Kennedy Assassination Records (records) so that they may — as they deserve — finally be fully informed about all aspects of this pivotal event.  Over the past 180 days, executive departments and agencies (agencies) have reviewed all of the information within records temporarily withheld from release and have proposed to the Archivist of the United States (Archivist) that certain information should continue to be redacted because of identifiable national security, law enforcement, and foreign affairs concerns.\"\n",
    "t = text.split(' ')\n",
    "t_filter = [w for w in t if w.isalpha()]\n",
    "fre = []\n",
    "for word in t_filter:\n",
    "    f = t.count(word)\n",
    "    fre.append(f)\n",
    "res = dict(zip(t_filter, fre))\n",
    "print(res)\n",
    "\n",
    "st_res = sorted(res.items(), key=lambda d:d[1], reverse = True)\n",
    "print(st_res)"
   ]
  },
  {
   "cell_type": "code",
   "execution_count": null,
   "metadata": {},
   "outputs": [],
   "source": []
  }
 ],
 "metadata": {
  "kernelspec": {
   "display_name": "Python 3",
   "language": "python",
   "name": "python3"
  },
  "language_info": {
   "codemirror_mode": {
    "name": "ipython",
    "version": 3
   },
   "file_extension": ".py",
   "mimetype": "text/x-python",
   "name": "python",
   "nbconvert_exporter": "python",
   "pygments_lexer": "ipython3",
   "version": "3.6.4"
  }
 },
 "nbformat": 4,
 "nbformat_minor": 2
}
