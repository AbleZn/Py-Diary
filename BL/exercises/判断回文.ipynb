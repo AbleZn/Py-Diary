{
 "cells": [
  {
   "cell_type": "code",
   "execution_count": 28,
   "metadata": {},
   "outputs": [
    {
     "name": "stdout",
     "output_type": "stream",
     "text": [
      "a stringsure\n",
      "no\n"
     ]
    }
   ],
   "source": [
    "#判断回文\n",
    "s = input('a string')\n",
    "if s == s[::-1]:\n",
    "    print('yes')\n",
    "else:\n",
    "    print('no')\n"
   ]
  },
  {
   "cell_type": "code",
   "execution_count": null,
   "metadata": {},
   "outputs": [],
   "source": [
    "#区域回文\n",
    "s = 'sdfddffdggrgs'\n",
    "stack = []\n",
    "length = []\n",
    "i = 0\n",
    "while True: #偶数长度\n",
    "    stack.append(s[i])\n",
    "    if i>=2:\n",
    "        if stack[-1] == stack[-2]:\n",
    "            length.append(stack.pop())\n",
    "            \n",
    "    i += 1"
   ]
  },
  {
   "cell_type": "code",
   "execution_count": null,
   "metadata": {},
   "outputs": [],
   "source": [
    "#区域回文答案\n",
    "def longest_palindromic(text):\n",
    "    if not text: return ''\n",
    "    text = text.lower()\n",
    "    res = []\n",
    "    \n",
    "    for i in range(len(text)):  #双重迭代\n",
    "        for j in range(0,i):\n",
    "            chunk = text(j:i+1)\n",
    "            if chunk == chunk[::-1]:\n",
    "                res.append(chunk)\n",
    "    \n",
    "    if not res: return text[0]\n",
    "    return max(res, key=len)"
   ]
  }
 ],
 "metadata": {
  "kernelspec": {
   "display_name": "Python 3",
   "language": "python",
   "name": "python3"
  },
  "language_info": {
   "codemirror_mode": {
    "name": "ipython",
    "version": 3
   },
   "file_extension": ".py",
   "mimetype": "text/x-python",
   "name": "python",
   "nbconvert_exporter": "python",
   "pygments_lexer": "ipython3",
   "version": "3.6.4"
  }
 },
 "nbformat": 4,
 "nbformat_minor": 2
}
