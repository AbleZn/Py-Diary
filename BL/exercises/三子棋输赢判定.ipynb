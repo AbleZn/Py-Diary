{
 "cells": [
  {
   "cell_type": "code",
   "execution_count": 34,
   "metadata": {},
   "outputs": [
    {
     "ename": "AssertionError",
     "evalue": "Draw",
     "output_type": "error",
     "traceback": [
      "\u001b[0;31m---------------------------------------------------------------------------\u001b[0m",
      "\u001b[0;31mAssertionError\u001b[0m                            Traceback (most recent call last)",
      "\u001b[0;32m<ipython-input-34-706ad75f50b1>\u001b[0m in \u001b[0;36m<module>\u001b[0;34m()\u001b[0m\n\u001b[1;32m     37\u001b[0m         \u001b[0;34m\"OOX\"\u001b[0m\u001b[0;34m,\u001b[0m\u001b[0;34m\u001b[0m\u001b[0m\n\u001b[1;32m     38\u001b[0m         \u001b[0;34m\"XXO\"\u001b[0m\u001b[0;34m,\u001b[0m\u001b[0;34m\u001b[0m\u001b[0m\n\u001b[0;32m---> 39\u001b[0;31m         \"OXX\"]) == \"D\", \"Draw\"\n\u001b[0m\u001b[1;32m     40\u001b[0m     assert checkio([\n\u001b[1;32m     41\u001b[0m         \u001b[0;34m\"O.X\"\u001b[0m\u001b[0;34m,\u001b[0m\u001b[0;34m\u001b[0m\u001b[0m\n",
      "\u001b[0;31mAssertionError\u001b[0m: Draw"
     ]
    }
   ],
   "source": [
    "def checkio(game_result):\n",
    "    for r in game_result:\n",
    "        if r[0] == r[1] == r[2]:\n",
    "            return r[0]\n",
    "    l = [r[0], r[1], r[2] for r in game_result]\n",
    "    for l in ''.join(game_result):\n",
    "        if l[0] == l[3] == l[6]:\n",
    "            return l[0]\n",
    "        elif l[1] == l[4] == l[7]:\n",
    "            return l[1]\n",
    "        elif l[2] == l[5] == l[8]:\n",
    "            return l[2]\n",
    "    \n",
    "if __name__ == '__main__':\n",
    "    #These \"asserts\" using only for self-checking and not necessary for auto-testing\n",
    "    assert checkio([\n",
    "        \"X.O\",\n",
    "        \"XX.\",\n",
    "        \"XOO\"]) == \"X\", \"Xs wins\"\n",
    "    assert checkio([\n",
    "        \"OO.\",\n",
    "        \"XOX\",\n",
    "        \"XOX\"]) == \"O\", \"Os wins\"\n",
    "    assert checkio([\n",
    "        \"OOX\",\n",
    "        \"XXO\",\n",
    "        \"OXX\"]) == \"D\", \"Draw\"\n",
    "    assert checkio([\n",
    "        \"O.X\",\n",
    "        \"XX.\",\n",
    "        \"XOO\"]) == \"X\", \"Xs wins again\"\n",
    "    print(\"Coding complete? Click 'Check' to review your tests and earn cool rewards!\")"
   ]
  },
  {
   "cell_type": "code",
   "execution_count": 28,
   "metadata": {},
   "outputs": [
    {
     "name": "stdout",
     "output_type": "stream",
     "text": [
      "O\n"
     ]
    }
   ],
   "source": [
    "#第一版\n",
    "    i = game_result[1][1]\n",
    "    n = 0\n",
    "    if i.isalpha():\n",
    "        if (game_result[0][0] and game_result[2][2] == i) or (game_result[0][2] and game_result[2][0] == i):\n",
    "            return i.upper()\n",
    "    while (n<=2):\n",
    "        temp = [r[n] for r in game_result]\n",
    "        x = temp.count('X')\n",
    "        o = temp.count('O')\n",
    "        if x==3:\n",
    "            return('X')\n",
    "        elif o == 3:\n",
    "            return('O')\n",
    "        else:\n",
    "            n+=1\n",
    "    for r in game_result:\n",
    "        if r == 'XXX':\n",
    "            return 'X'\n",
    "        elif r == 'OOO':\n",
    "            return 'O'\n",
    "    return 'D'"
   ]
  },
  {
   "cell_type": "code",
   "execution_count": null,
   "metadata": {},
   "outputs": [],
   "source": [
    "#answer:\n",
    "def checkio(game_result):\n",
    "\n",
    "    for row in game_result:\n",
    "\n",
    "        if row[0] == row[1] == row[2] != \".\":\n",
    "\n",
    "            return row[0]\n",
    "\n",
    "    for i in range(len(game_result)):\n",
    "\n",
    "        if game_result[0][i] == game_result[1][i] == game_result[2][i] != \".\":\n",
    "\n",
    "            return game_result[0][i]\n",
    "\n",
    "    if game_result[0][0] == game_result[1][1] == game_result[2][2] != \".\":\n",
    "\n",
    "        return game_result[0][0]\n",
    "\n",
    "    if game_result[0][2] == game_result[1][1] == game_result[2][0] != \".\":\n",
    "\n",
    "        return game_result[0][2]\n",
    "\n",
    "    return \"D\""
   ]
  }
 ],
 "metadata": {
  "kernelspec": {
   "display_name": "Python 3",
   "language": "python",
   "name": "python3"
  },
  "language_info": {
   "codemirror_mode": {
    "name": "ipython",
    "version": 3
   },
   "file_extension": ".py",
   "mimetype": "text/x-python",
   "name": "python",
   "nbconvert_exporter": "python",
   "pygments_lexer": "ipython3",
   "version": "3.6.4"
  }
 },
 "nbformat": 4,
 "nbformat_minor": 2
}
