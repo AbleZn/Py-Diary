{
 "cells": [
  {
   "cell_type": "code",
   "execution_count": 2,
   "metadata": {},
   "outputs": [
    {
     "name": "stdout",
     "output_type": "stream",
     "text": [
      "abcdg\n"
     ]
    }
   ],
   "source": [
    "s = set('aabbdbgcc')\n",
    "print(''.join(sorted(s)))"
   ]
  },
  {
   "cell_type": "code",
   "execution_count": 3,
   "metadata": {},
   "outputs": [
    {
     "name": "stdout",
     "output_type": "stream",
     "text": [
      "['a', 'b', 'c', 'd']\n"
     ]
    }
   ],
   "source": [
    "s = 'aaaabcdccddda'\n",
    "print(sorted(set(s),key=s.index))"
   ]
  },
  {
   "cell_type": "code",
   "execution_count": 37,
   "metadata": {},
   "outputs": [
    {
     "ename": "AssertionError",
     "evalue": "17",
     "output_type": "error",
     "traceback": [
      "\u001b[0;31m---------------------------------------------------------------------------\u001b[0m",
      "\u001b[0;31mAssertionError\u001b[0m                            Traceback (most recent call last)",
      "\u001b[0;32m<ipython-input-37-fbd5a1e54516>\u001b[0m in \u001b[0;36m<module>\u001b[0;34m()\u001b[0m\n\u001b[1;32m     38\u001b[0m     \u001b[0;32massert\u001b[0m \u001b[0mis_stressful\u001b[0m\u001b[0;34m(\u001b[0m\u001b[0;34m\"I’m REALLY happy on my vacation!\"\u001b[0m\u001b[0;34m)\u001b[0m \u001b[0;34m==\u001b[0m \u001b[0;32mFalse\u001b[0m\u001b[0;34m,\u001b[0m \u001b[0;34m\"13\"\u001b[0m\u001b[0;34m\u001b[0m\u001b[0m\n\u001b[1;32m     39\u001b[0m     \u001b[0;32massert\u001b[0m \u001b[0mis_stressful\u001b[0m\u001b[0;34m(\u001b[0m\u001b[0;34m\"Heeeeeey!!! I’m having so much fun!\"\u001b[0m\u001b[0;34m)\u001b[0m \u001b[0;34m==\u001b[0m \u001b[0;32mFalse\u001b[0m\u001b[0;34m,\u001b[0m \u001b[0;34m\"15\"\u001b[0m\u001b[0;34m\u001b[0m\u001b[0m\n\u001b[0;32m---> 40\u001b[0;31m     \u001b[0;32massert\u001b[0m \u001b[0mis_stressful\u001b[0m\u001b[0;34m(\u001b[0m\u001b[0;34m\"He loves peace\"\u001b[0m\u001b[0;34m)\u001b[0m \u001b[0;34m==\u001b[0m \u001b[0;32mFalse\u001b[0m\u001b[0;34m,\u001b[0m \u001b[0;34m\"17\"\u001b[0m\u001b[0;34m\u001b[0m\u001b[0m\n\u001b[0m\u001b[1;32m     41\u001b[0m     \u001b[0;32massert\u001b[0m \u001b[0mis_stressful\u001b[0m\u001b[0;34m(\u001b[0m\u001b[0;34m\"Hello puppy\"\u001b[0m\u001b[0;34m)\u001b[0m \u001b[0;34m==\u001b[0m \u001b[0;32mFalse\u001b[0m\u001b[0;34m,\u001b[0m \u001b[0;34m\"18\"\u001b[0m\u001b[0;34m\u001b[0m\u001b[0m\n\u001b[1;32m     42\u001b[0m     \u001b[0;32massert\u001b[0m \u001b[0mis_stressful\u001b[0m\u001b[0;34m(\u001b[0m\u001b[0;34m\"We need you A.S.A.P.!!\"\u001b[0m\u001b[0;34m)\u001b[0m \u001b[0;34m==\u001b[0m \u001b[0;32mTrue\u001b[0m\u001b[0;34m,\u001b[0m \u001b[0;34m\"7\"\u001b[0m\u001b[0;34m\u001b[0m\u001b[0m\n",
      "\u001b[0;31mAssertionError\u001b[0m: 17"
     ]
    }
   ],
   "source": [
    "# Description: The function should recognise if a subject line is stressful. A stressful subject line means that all\n",
    "# letters are in uppercase, and/or ends by at least 3 exclamation marks, and/or contains at least one of the following\n",
    "# “red” words: \"help\", \"asap\", \"urgent\". Any of those \"red\" words can be spelled in different ways - \"HELP\", \"help\",\n",
    "# \"HeLp\", \"H!E!L!P!\", \"H-E-L-P\", even in a very loooong way \"HHHEEEEEEEEELLP\"\n",
    "#\n",
    "# Input: Subject line as a string.\n",
    "# Output: Boolean.\n",
    "\n",
    "import re\n",
    "def is_stressful(subj):\n",
    "    \"\"\"\n",
    "        recoognise stressful subject\n",
    "    \"\"\"\n",
    "    subj = subj.lower()\n",
    "    if subj.find('help'or'urgent'or'asap') != -1:\n",
    "        return True\n",
    "    elif subj.isupper():\n",
    "        return True\n",
    "    else:\n",
    "        line1 = re.match(r'h.*e.*l.*p', subj, re.I)\n",
    "        line2 = re.match(r'u.*r.*g.*e.*n.*t(\\W)', subj, re.I)\n",
    "        line3 = re.match(r'a.*s.*a.*p', subj, re.I)\n",
    "        if line1 or line2 or line3:\n",
    "            return True\n",
    "        else:\n",
    "            return False\n",
    "    \n",
    "if __name__ == '__main__':\n",
    "    # These \"asserts\" using only for self-checking and not necessary for auto-testing\n",
    "    assert is_stressful(\"Hi\") == False, \"1\"\n",
    "    assert is_stressful(\"I neeed HELP\") == True, \"2\"\n",
    "    assert is_stressful(\"HELP\") == True, \"3\"\n",
    "    assert is_stressful(\"something is gona happen\") == False, \"4\"\n",
    "    assert is_stressful(\"asap help\") == True, \"5\"\n",
    "    assert is_stressful(\"h!e!l!p\") == True, \"6\"\n",
    "    assert is_stressful(\"UUUURGGGEEEEENT here\") == True, \"9\"\n",
    "    assert is_stressful(\"Happy birthday\") == False, \"10\"\n",
    "    assert is_stressful(\"I neeed your love\") == False, \"11\"\n",
    "    assert is_stressful(\"U-R-G-E-N-T issue\") == True, \"12\"\n",
    "    assert is_stressful(\"I’m REALLY happy on my vacation!\") == False, \"13\"\n",
    "    assert is_stressful(\"Heeeeeey!!! I’m having so much fun!\") == False, \"15\"\n",
    "    assert is_stressful(\"He loves peace\") == False, \"17\"\n",
    "    assert is_stressful(\"Hello puppy\") == False, \"18\"\n",
    "    assert is_stressful(\"We need you A.S.A.P.!!\") == True, \"7\"\n",
    "    assert is_stressful(\"where are you?!!!!\") == True, \"8\"\n",
    "    assert is_stressful(\"This is very urgent!\") == True, \"14\"\n",
    "    assert is_stressful(\"HI HOW ARE YOU?\") == True, \"16\"\n",
    "    print('Done! Go Check it!')"
   ]
  },
  {
   "cell_type": "code",
   "execution_count": 30,
   "metadata": {},
   "outputs": [
    {
     "name": "stdout",
     "output_type": "stream",
     "text": [
      "h!elp\n"
     ]
    },
    {
     "data": {
      "text/plain": [
       "False"
      ]
     },
     "execution_count": 30,
     "metadata": {},
     "output_type": "execute_result"
    }
   ],
   "source": [
    "def is_stressful(subj):\n",
    "    \"\"\"\n",
    "        recoognise stressful subject\n",
    "    \"\"\"\n",
    "    subj = subj.lower()\n",
    "    if subj.find('help'or'urgent'or'asap') != -1:\n",
    "        return True\n",
    "    else:\n",
    "        s = sorted(set(subj), key=subj.index)\n",
    "        stress = ''.join(s)\n",
    "        print(stress)\n",
    "        if stress.find('help'or'urgent'or'asap') != -1:\n",
    "            return True\n",
    "        else:\n",
    "            return False\n",
    "        \n",
    "is_stressful(\"h!e!l!p\")"
   ]
  },
  {
   "cell_type": "code",
   "execution_count": 34,
   "metadata": {},
   "outputs": [
    {
     "data": {
      "text/plain": [
       "False"
      ]
     },
     "execution_count": 34,
     "metadata": {},
     "output_type": "execute_result"
    }
   ],
   "source": [
    "import re\n",
    "\n",
    "def is_stressful(subj):\n",
    "    \"\"\"\n",
    "        recoognise stressful subject\n",
    "    \"\"\"\n",
    "    subj = subj.lower()\n",
    "    if subj.find('help'or'urgent'or'asap') != -1:\n",
    "        return True\n",
    "    else:\n",
    "        line1 = re.match(r'h.*e.*l.*p', subj, re.I)\n",
    "        line2 = re.match(r'u.*r.*g.*e.*n.*t(\\W)', subj, re.I)\n",
    "        line3 = re.match(r'a.*s.*a.*p', subj, re.I)\n",
    "        if line1 or line2 or line3 or line4:\n",
    "            return True\n",
    "        else:\n",
    "            return False\n",
    "is_stressful('where are you?!!!!')"
   ]
  },
  {
   "cell_type": "code",
   "execution_count": null,
   "metadata": {},
   "outputs": [],
   "source": [
    "import re\n",
    "\n",
    "    return (subj.isupper() or subj.endswith('!!!') or\n",
    "            any(re.search('+[.!-]*'.join(word), subj.lower())\n",
    "                for word in ['help', 'asap', 'urgent']\n",
    "                )\n",
    "            )"
   ]
  }
 ],
 "metadata": {
  "kernelspec": {
   "display_name": "Python 3",
   "language": "python",
   "name": "python3"
  },
  "language_info": {
   "codemirror_mode": {
    "name": "ipython",
    "version": 3
   },
   "file_extension": ".py",
   "mimetype": "text/x-python",
   "name": "python",
   "nbconvert_exporter": "python",
   "pygments_lexer": "ipython3",
   "version": "3.6.4"
  }
 },
 "nbformat": 4,
 "nbformat_minor": 2
}
