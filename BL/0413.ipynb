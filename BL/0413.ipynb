{
 "cells": [
  {
   "cell_type": "code",
   "execution_count": 51,
   "metadata": {},
   "outputs": [
    {
     "name": "stdout",
     "output_type": "stream",
     "text": [
      "Example:\n"
     ]
    },
    {
     "ename": "TypeError",
     "evalue": "unhashable type: 'slice'",
     "output_type": "error",
     "traceback": [
      "\u001b[0;31m---------------------------------------------------------------------------\u001b[0m",
      "\u001b[0;31mTypeError\u001b[0m                                 Traceback (most recent call last)",
      "\u001b[0;32m<ipython-input-51-f0a8b0b1f139>\u001b[0m in \u001b[0;36m<module>\u001b[0;34m()\u001b[0m\n\u001b[1;32m     22\u001b[0m         \u001b[0;34m{\u001b[0m\u001b[0;34m\"name\"\u001b[0m\u001b[0;34m:\u001b[0m \u001b[0;34m\"wine\"\u001b[0m\u001b[0;34m,\u001b[0m \u001b[0;34m\"price\"\u001b[0m\u001b[0;34m:\u001b[0m \u001b[0;36m138\u001b[0m\u001b[0;34m}\u001b[0m\u001b[0;34m,\u001b[0m\u001b[0;34m\u001b[0m\u001b[0m\n\u001b[1;32m     23\u001b[0m         \u001b[0;34m{\u001b[0m\u001b[0;34m\"name\"\u001b[0m\u001b[0;34m:\u001b[0m \u001b[0;34m\"meat\"\u001b[0m\u001b[0;34m,\u001b[0m \u001b[0;34m\"price\"\u001b[0m\u001b[0;34m:\u001b[0m \u001b[0;36m15\u001b[0m\u001b[0;34m}\u001b[0m\u001b[0;34m,\u001b[0m\u001b[0;34m\u001b[0m\u001b[0m\n\u001b[0;32m---> 24\u001b[0;31m         \u001b[0;34m{\u001b[0m\u001b[0;34m\"name\"\u001b[0m\u001b[0;34m:\u001b[0m \u001b[0;34m\"water\"\u001b[0m\u001b[0;34m,\u001b[0m \u001b[0;34m\"price\"\u001b[0m\u001b[0;34m:\u001b[0m \u001b[0;36m1\u001b[0m\u001b[0;34m}\u001b[0m\u001b[0;34m\u001b[0m\u001b[0m\n\u001b[0m\u001b[1;32m     25\u001b[0m     ]))\n\u001b[1;32m     26\u001b[0m \u001b[0;34m\u001b[0m\u001b[0m\n",
      "\u001b[0;32m<ipython-input-51-f0a8b0b1f139>\u001b[0m in \u001b[0;36mbigger_price\u001b[0;34m(limit, data)\u001b[0m\n\u001b[1;32m     12\u001b[0m         \u001b[0mTOP\u001b[0m \u001b[0mmost\u001b[0m \u001b[0mexpensive\u001b[0m \u001b[0mgoods\u001b[0m\u001b[0;34m\u001b[0m\u001b[0m\n\u001b[1;32m     13\u001b[0m     \"\"\"\n\u001b[0;32m---> 14\u001b[0;31m     \u001b[0mdata\u001b[0m\u001b[0;34m.\u001b[0m\u001b[0msort\u001b[0m\u001b[0;34m(\u001b[0m\u001b[0mkey\u001b[0m \u001b[0;34m=\u001b[0m \u001b[0;32mlambda\u001b[0m \u001b[0mx\u001b[0m\u001b[0;34m:\u001b[0m\u001b[0mx\u001b[0m\u001b[0;34m[\u001b[0m\u001b[0;34m:\u001b[0m\u001b[0;34m:\u001b[0m\u001b[0;36m1\u001b[0m\u001b[0;34m]\u001b[0m\u001b[0;34m,\u001b[0m \u001b[0mreverse\u001b[0m \u001b[0;34m=\u001b[0m \u001b[0;32mTrue\u001b[0m\u001b[0;34m)\u001b[0m\u001b[0;34m\u001b[0m\u001b[0m\n\u001b[0m\u001b[1;32m     15\u001b[0m     \u001b[0mprint\u001b[0m\u001b[0;34m(\u001b[0m\u001b[0mdata\u001b[0m\u001b[0;34m[\u001b[0m\u001b[0;34m:\u001b[0m\u001b[0mlimit\u001b[0m\u001b[0;34m]\u001b[0m\u001b[0;34m)\u001b[0m\u001b[0;34m\u001b[0m\u001b[0m\n\u001b[1;32m     16\u001b[0m \u001b[0;34m\u001b[0m\u001b[0m\n",
      "\u001b[0;32m<ipython-input-51-f0a8b0b1f139>\u001b[0m in \u001b[0;36m<lambda>\u001b[0;34m(x)\u001b[0m\n\u001b[1;32m     12\u001b[0m         \u001b[0mTOP\u001b[0m \u001b[0mmost\u001b[0m \u001b[0mexpensive\u001b[0m \u001b[0mgoods\u001b[0m\u001b[0;34m\u001b[0m\u001b[0m\n\u001b[1;32m     13\u001b[0m     \"\"\"\n\u001b[0;32m---> 14\u001b[0;31m     \u001b[0mdata\u001b[0m\u001b[0;34m.\u001b[0m\u001b[0msort\u001b[0m\u001b[0;34m(\u001b[0m\u001b[0mkey\u001b[0m \u001b[0;34m=\u001b[0m \u001b[0;32mlambda\u001b[0m \u001b[0mx\u001b[0m\u001b[0;34m:\u001b[0m\u001b[0mx\u001b[0m\u001b[0;34m[\u001b[0m\u001b[0;34m:\u001b[0m\u001b[0;34m:\u001b[0m\u001b[0;36m1\u001b[0m\u001b[0;34m]\u001b[0m\u001b[0;34m,\u001b[0m \u001b[0mreverse\u001b[0m \u001b[0;34m=\u001b[0m \u001b[0;32mTrue\u001b[0m\u001b[0;34m)\u001b[0m\u001b[0;34m\u001b[0m\u001b[0m\n\u001b[0m\u001b[1;32m     15\u001b[0m     \u001b[0mprint\u001b[0m\u001b[0;34m(\u001b[0m\u001b[0mdata\u001b[0m\u001b[0;34m[\u001b[0m\u001b[0;34m:\u001b[0m\u001b[0mlimit\u001b[0m\u001b[0;34m]\u001b[0m\u001b[0;34m)\u001b[0m\u001b[0;34m\u001b[0m\u001b[0m\n\u001b[1;32m     16\u001b[0m \u001b[0;34m\u001b[0m\u001b[0m\n",
      "\u001b[0;31mTypeError\u001b[0m: unhashable type: 'slice'"
     ]
    }
   ],
   "source": [
    "#You have a table with all available goods in the store. The data is represented as a list of dicts\n",
    "\n",
    "#Your mission here is to find the TOP most expensive goods. \n",
    "#The amount we are looking for will be given as a first argument \n",
    "#and the whole data as the second one\n",
    "\n",
    "#Input: int and list of dicts. Each dicts has two keys \"name\" and \"price\"\n",
    "#Output: the same as the second Input argument.\n",
    "\n",
    "def bigger_price(limit, data):\n",
    "    \"\"\"\n",
    "        TOP most expensive goods\n",
    "    \"\"\"\n",
    "    data.sort(key = lambda x:x[::1], reverse = True)\n",
    "    print(data[:limit])\n",
    "\n",
    "if __name__ == '__main__':\n",
    "    from pprint import pprint\n",
    "    print('Example:')\n",
    "    pprint(bigger_price(2, [\n",
    "        {\"name\": \"bread\", \"price\": 100},\n",
    "        {\"name\": \"wine\", \"price\": 138},\n",
    "        {\"name\": \"meat\", \"price\": 15},\n",
    "        {\"name\": \"water\", \"price\": 1}\n",
    "    ]))\n",
    "\n",
    "    # These \"asserts\" using for self-checking and not for auto-testing\n",
    "    assert bigger_price(2, [\n",
    "        {\"name\": \"bread\", \"price\": 100},\n",
    "        {\"name\": \"wine\", \"price\": 138},\n",
    "        {\"name\": \"meat\", \"price\": 15},\n",
    "        {\"name\": \"water\", \"price\": 1}\n",
    "    ]) == [\n",
    "        {\"name\": \"wine\", \"price\": 138},\n",
    "        {\"name\": \"bread\", \"price\": 100}\n",
    "    ], \"First\"\n",
    "\n",
    "    assert bigger_price(1, [\n",
    "        {\"name\": \"pen\", \"price\": 5},\n",
    "        {\"name\": \"whiteboard\", \"price\": 170}\n",
    "    ]) == [{\"name\": \"whiteboard\", \"price\": 170}], \"Second\"\n",
    "\n",
    "    print('Done! Looks like it is fine. Go and check it')"
   ]
  },
  {
   "cell_type": "code",
   "execution_count": 52,
   "metadata": {},
   "outputs": [
    {
     "name": "stdout",
     "output_type": "stream",
     "text": [
      "[{'name': 'wine', 'price': 138}, {'name': 'bread', 'price': 100}, {'name': 'meat', 'price': 15}, {'name': 'water', 'price': 1}]\n"
     ]
    }
   ],
   "source": [
    "def bigger_price(limit, data):\n",
    "    \"\"\"\n",
    "        TOP most expensive goods\n",
    "    \"\"\"\n",
    "    data.sort(key = lambda x:(-x['price']))\n",
    "    print(data)\n",
    "\n",
    "bigger_price(2, [\n",
    "        {\"name\": \"bread\", \"price\": 100},\n",
    "        {\"name\": \"wine\", \"price\": 138},\n",
    "        {\"name\": \"meat\", \"price\": 15},\n",
    "        {\"name\": \"water\", \"price\": 1}])"
   ]
  },
  {
   "cell_type": "code",
   "execution_count": 58,
   "metadata": {},
   "outputs": [
    {
     "ename": "TypeError",
     "evalue": "'<' not supported between instances of 'float' and 'str'",
     "output_type": "error",
     "traceback": [
      "\u001b[0;31m---------------------------------------------------------------------------\u001b[0m",
      "\u001b[0;31mTypeError\u001b[0m                                 Traceback (most recent call last)",
      "\u001b[0;32m<ipython-input-58-d137d131ae6c>\u001b[0m in \u001b[0;36m<module>\u001b[0;34m()\u001b[0m\n\u001b[1;32m     26\u001b[0m \u001b[0;34m\u001b[0m\u001b[0m\n\u001b[1;32m     27\u001b[0m \u001b[0;34m\u001b[0m\u001b[0m\n\u001b[0;32m---> 28\u001b[0;31m     \u001b[0;32massert\u001b[0m \u001b[0malmost_equal\u001b[0m\u001b[0;34m(\u001b[0m\u001b[0mcheckio\u001b[0m\u001b[0;34m(\u001b[0m\u001b[0;36m1\u001b[0m\u001b[0;34m,\u001b[0m \u001b[0;36m2\u001b[0m\u001b[0;34m,\u001b[0m \u001b[0;36m3\u001b[0m\u001b[0;34m)\u001b[0m\u001b[0;34m,\u001b[0m \u001b[0;36m2\u001b[0m\u001b[0;34m,\u001b[0m \u001b[0;36m3\u001b[0m\u001b[0;34m)\u001b[0m\u001b[0;34m,\u001b[0m \u001b[0;34m\"3-1=2\"\u001b[0m\u001b[0;34m\u001b[0m\u001b[0m\n\u001b[0m\u001b[1;32m     29\u001b[0m     \u001b[0;32massert\u001b[0m \u001b[0malmost_equal\u001b[0m\u001b[0;34m(\u001b[0m\u001b[0mcheckio\u001b[0m\u001b[0;34m(\u001b[0m\u001b[0;36m5\u001b[0m\u001b[0;34m,\u001b[0m \u001b[0;34m-\u001b[0m\u001b[0;36m5\u001b[0m\u001b[0;34m)\u001b[0m\u001b[0;34m,\u001b[0m \u001b[0;36m10\u001b[0m\u001b[0;34m,\u001b[0m \u001b[0;36m3\u001b[0m\u001b[0;34m)\u001b[0m\u001b[0;34m,\u001b[0m \u001b[0;34m\"5-(-5)=10\"\u001b[0m\u001b[0;34m\u001b[0m\u001b[0m\n\u001b[1;32m     30\u001b[0m     \u001b[0;32massert\u001b[0m \u001b[0malmost_equal\u001b[0m\u001b[0;34m(\u001b[0m\u001b[0mcheckio\u001b[0m\u001b[0;34m(\u001b[0m\u001b[0;36m10.2\u001b[0m\u001b[0;34m,\u001b[0m \u001b[0;34m-\u001b[0m\u001b[0;36m2.2\u001b[0m\u001b[0;34m,\u001b[0m \u001b[0;36m0\u001b[0m\u001b[0;34m,\u001b[0m \u001b[0;36m1.1\u001b[0m\u001b[0;34m,\u001b[0m \u001b[0;36m0.5\u001b[0m\u001b[0;34m)\u001b[0m\u001b[0;34m,\u001b[0m \u001b[0;36m12.4\u001b[0m\u001b[0;34m,\u001b[0m \u001b[0;36m3\u001b[0m\u001b[0;34m)\u001b[0m\u001b[0;34m,\u001b[0m \u001b[0;34m\"10.2-(-2.2)=12.4\"\u001b[0m\u001b[0;34m\u001b[0m\u001b[0m\n",
      "\u001b[0;32m<ipython-input-58-d137d131ae6c>\u001b[0m in \u001b[0;36malmost_equal\u001b[0;34m(checked, correct, significant_digits)\u001b[0m\n\u001b[1;32m     23\u001b[0m     \u001b[0;32mdef\u001b[0m \u001b[0malmost_equal\u001b[0m\u001b[0;34m(\u001b[0m\u001b[0mchecked\u001b[0m\u001b[0;34m,\u001b[0m \u001b[0mcorrect\u001b[0m\u001b[0;34m,\u001b[0m \u001b[0msignificant_digits\u001b[0m\u001b[0;34m)\u001b[0m\u001b[0;34m:\u001b[0m\u001b[0;34m\u001b[0m\u001b[0m\n\u001b[1;32m     24\u001b[0m         \u001b[0mprecision\u001b[0m \u001b[0;34m=\u001b[0m \u001b[0;36m0.1\u001b[0m \u001b[0;34m**\u001b[0m \u001b[0msignificant_digits\u001b[0m\u001b[0;34m\u001b[0m\u001b[0m\n\u001b[0;32m---> 25\u001b[0;31m         \u001b[0;32mreturn\u001b[0m \u001b[0mcorrect\u001b[0m \u001b[0;34m-\u001b[0m \u001b[0mprecision\u001b[0m \u001b[0;34m<\u001b[0m \u001b[0mchecked\u001b[0m \u001b[0;34m<\u001b[0m \u001b[0mcorrect\u001b[0m \u001b[0;34m+\u001b[0m \u001b[0mprecision\u001b[0m\u001b[0;34m\u001b[0m\u001b[0m\n\u001b[0m\u001b[1;32m     26\u001b[0m \u001b[0;34m\u001b[0m\u001b[0m\n\u001b[1;32m     27\u001b[0m \u001b[0;34m\u001b[0m\u001b[0m\n",
      "\u001b[0;31mTypeError\u001b[0m: '<' not supported between instances of 'float' and 'str'"
     ]
    }
   ],
   "source": [
    "# most_number\n",
    "# Created by JKChang\n",
    "# 13/04/2018, 14:52\n",
    "# Tag:\n",
    "# Description: You are given an array of numbers (floats). You should find the difference between the maximum and\n",
    "# minimum element. Your function should be able to handle an undefined amount of arguments. For an empty argument list,\n",
    "# the function should return 0.\n",
    "#\n",
    "# Floating-point numbers are represented in computer hardware as base 2 (binary) fractions. So we should check the\n",
    "# result with ±0.001 precision.\n",
    "# Think about how to work with an arbitrary number of arguments.\n",
    "#\n",
    "# Input: An arbitrary number of arguments as numbers (int, float).\n",
    "#\n",
    "# Output: The difference between maximum and minimum as a number (int, float).\n",
    "\n",
    "def checkio(*args):\n",
    "    correct = max(checked) - min(checked)\n",
    "    return('%.3f'%correct)\n",
    "\n",
    "# These \"asserts\" using only for self-checking and not necessary for auto-testing\n",
    "if __name__ == '__main__':\n",
    "    def almost_equal(checked, correct, significant_digits):\n",
    "        precision = 0.1 ** significant_digits\n",
    "        return correct - precision < checked < correct + precision\n",
    "\n",
    "\n",
    "    assert almost_equal(checkio(1, 2, 3), 2, 3), \"3-1=2\"\n",
    "    assert almost_equal(checkio(5, -5), 10, 3), \"5-(-5)=10\"\n",
    "    assert almost_equal(checkio(10.2, -2.2, 0, 1.1, 0.5), 12.4, 3), \"10.2-(-2.2)=12.4\"\n",
    "    assert almost_equal(checkio(), 0, 3), \"Empty\"\n",
    "    print(\"Coding complete? Click 'Check' to review your tests and earn cool rewards!\")"
   ]
  },
  {
   "cell_type": "code",
   "execution_count": 1,
   "metadata": {},
   "outputs": [
    {
     "ename": "AssertionError",
     "evalue": "An empty array = 0",
     "output_type": "error",
     "traceback": [
      "\u001b[0;31m---------------------------------------------------------------------------\u001b[0m",
      "\u001b[0;31mAssertionError\u001b[0m                            Traceback (most recent call last)",
      "\u001b[0;32m<ipython-input-1-29eb3433aa35>\u001b[0m in \u001b[0;36m<module>\u001b[0;34m()\u001b[0m\n\u001b[1;32m     35\u001b[0m     \u001b[0;32massert\u001b[0m \u001b[0mcheckio\u001b[0m\u001b[0;34m(\u001b[0m\u001b[0;34m[\u001b[0m\u001b[0;36m1\u001b[0m\u001b[0;34m,\u001b[0m \u001b[0;36m3\u001b[0m\u001b[0;34m,\u001b[0m \u001b[0;36m5\u001b[0m\u001b[0;34m]\u001b[0m\u001b[0;34m)\u001b[0m \u001b[0;34m==\u001b[0m \u001b[0;36m30\u001b[0m\u001b[0;34m,\u001b[0m \u001b[0;34m\"(1+5)*5=30\"\u001b[0m\u001b[0;34m\u001b[0m\u001b[0m\n\u001b[1;32m     36\u001b[0m     \u001b[0;32massert\u001b[0m \u001b[0mcheckio\u001b[0m\u001b[0;34m(\u001b[0m\u001b[0;34m[\u001b[0m\u001b[0;36m6\u001b[0m\u001b[0;34m]\u001b[0m\u001b[0;34m)\u001b[0m \u001b[0;34m==\u001b[0m \u001b[0;36m36\u001b[0m\u001b[0;34m,\u001b[0m \u001b[0;34m\"(6)*6=36\"\u001b[0m\u001b[0;34m\u001b[0m\u001b[0m\n\u001b[0;32m---> 37\u001b[0;31m     \u001b[0;32massert\u001b[0m \u001b[0mcheckio\u001b[0m\u001b[0;34m(\u001b[0m\u001b[0;34m[\u001b[0m\u001b[0;34m]\u001b[0m\u001b[0;34m)\u001b[0m \u001b[0;34m==\u001b[0m \u001b[0;36m0\u001b[0m\u001b[0;34m,\u001b[0m \u001b[0;34m\"An empty array = 0\"\u001b[0m\u001b[0;34m\u001b[0m\u001b[0m\n\u001b[0m\u001b[1;32m     38\u001b[0m     \u001b[0mprint\u001b[0m\u001b[0;34m(\u001b[0m\u001b[0;34m\"Coding complete? Click 'Check' to review your tests and earn cool rewards!\"\u001b[0m\u001b[0;34m)\u001b[0m\u001b[0;34m\u001b[0m\u001b[0m\n",
      "\u001b[0;31mAssertionError\u001b[0m: An empty array = 0"
     ]
    }
   ],
   "source": [
    "# even_the_last\n",
    "# Created by JKChang\n",
    "# 13/04/2018, 14:53\n",
    "# Tag:\n",
    "# Description: You are given an array of integers. You should find the sum of the elements with even indexes (0th, 2nd,\n",
    "# 4th...) then multiply this summed number and the final element of the array together. Don't forget that the first\n",
    "# element has an index of 0.\n",
    "#\n",
    "# For an empty array, the result will always be 0 (zero).\n",
    "#\n",
    "# Input: A list of integers.\n",
    "#\n",
    "# Output: The number as an integer.\n",
    "\n",
    "def checkio(array):\n",
    "    \"\"\"\n",
    "        sums even-indexes elements and multiply at the last\n",
    "    \"\"\"\n",
    "    j = 1\n",
    "    evens = []\n",
    "    for i in array:\n",
    "        if j%2 !=0:\n",
    "            evens.append(i)\n",
    "        j += 1\n",
    "    sums = sum(evens)\n",
    "    try:\n",
    "        return(sums * max(array))\n",
    "    except ValueError:\n",
    "        return(\"An empty array = 0\")\n",
    "        \n",
    "\n",
    "#These \"asserts\" using only for self-checking and not necessary for auto-testing\n",
    "if __name__ == '__main__':\n",
    "    assert checkio([0, 1, 2, 3, 4, 5]) == 30, \"(0+2+4)*5=30\"\n",
    "    assert checkio([1, 3, 5]) == 30, \"(1+5)*5=30\"\n",
    "    assert checkio([6]) == 36, \"(6)*6=36\"\n",
    "    assert checkio([]) == 0, \"An empty array = 0\"\n",
    "    print(\"Coding complete? Click 'Check' to review your tests and earn cool rewards!\")"
   ]
  },
  {
   "cell_type": "code",
   "execution_count": 84,
   "metadata": {},
   "outputs": [
    {
     "name": "stdout",
     "output_type": "stream",
     "text": [
      "HELLO\n"
     ]
    },
    {
     "ename": "AssertionError",
     "evalue": "hello",
     "output_type": "error",
     "traceback": [
      "\u001b[0;31m---------------------------------------------------------------------------\u001b[0m",
      "\u001b[0;31mAssertionError\u001b[0m                            Traceback (most recent call last)",
      "\u001b[0;32m<ipython-input-84-be47468575b4>\u001b[0m in \u001b[0;36m<module>\u001b[0;34m()\u001b[0m\n\u001b[1;32m     27\u001b[0m \u001b[0;32mif\u001b[0m \u001b[0m__name__\u001b[0m \u001b[0;34m==\u001b[0m \u001b[0;34m'__main__'\u001b[0m\u001b[0;34m:\u001b[0m\u001b[0;34m\u001b[0m\u001b[0m\n\u001b[1;32m     28\u001b[0m     \u001b[0;31m# These \"asserts\" using only for self-checking and not necessary for auto-testing\u001b[0m\u001b[0;34m\u001b[0m\u001b[0;34m\u001b[0m\u001b[0m\n\u001b[0;32m---> 29\u001b[0;31m     \u001b[0;32massert\u001b[0m \u001b[0mfind_message\u001b[0m\u001b[0;34m(\u001b[0m\u001b[0;34m\"How are you? Eh, ok. Low or Lower? Ohhh.\"\u001b[0m\u001b[0;34m)\u001b[0m \u001b[0;34m==\u001b[0m \u001b[0;34m\"HELLO\"\u001b[0m\u001b[0;34m,\u001b[0m \u001b[0;34m\"hello\"\u001b[0m\u001b[0;34m\u001b[0m\u001b[0m\n\u001b[0m\u001b[1;32m     30\u001b[0m     \u001b[0;32massert\u001b[0m \u001b[0mfind_message\u001b[0m\u001b[0;34m(\u001b[0m\u001b[0;34m\"hello world!\"\u001b[0m\u001b[0;34m)\u001b[0m \u001b[0;34m==\u001b[0m \u001b[0;34m\"\"\u001b[0m\u001b[0;34m,\u001b[0m \u001b[0;34m\"Nothing\"\u001b[0m\u001b[0;34m\u001b[0m\u001b[0m\n\u001b[1;32m     31\u001b[0m     \u001b[0;32massert\u001b[0m \u001b[0mfind_message\u001b[0m\u001b[0;34m(\u001b[0m\u001b[0;34m\"HELLO WORLD!!!\"\u001b[0m\u001b[0;34m)\u001b[0m \u001b[0;34m==\u001b[0m \u001b[0;34m\"HELLOWORLD\"\u001b[0m\u001b[0;34m,\u001b[0m \u001b[0;34m\"Capitals\"\u001b[0m\u001b[0;34m\u001b[0m\u001b[0m\n",
      "\u001b[0;31mAssertionError\u001b[0m: hello"
     ]
    }
   ],
   "source": [
    "# secret_message\n",
    "# Created by JKChang\n",
    "# 13/04/2018, 14:55\n",
    "# Tag:\n",
    "# Description: Ever tried to send a secret message to someone without using the postal service? You could use newspapers\n",
    "# to tell your secret. Even if someone finds your message, it's easy to brush them off and that its paranoia and a bogus\n",
    "# conspiracy theory. One of the simplest ways to hide a secret message is to use capital letters. Let's find some of\n",
    "# these secret messages.\n",
    "#\n",
    "# You are given a chunk of text. Gather all capital letters in one word in the order that they appear in the text.\n",
    "#\n",
    "# For example: text = \"How are you? Eh, ok. Low or Lower? Ohhh.\", if we collect all of the capital letters, we get the\n",
    "# message \"HELLO\".\n",
    "#\n",
    "# Input: A text as a string (unicode).\n",
    "#\n",
    "# Output: The secret message as a string or an empty string.\n",
    "\n",
    "def find_message(text):\n",
    "    \"\"\"Find a secret message\"\"\"\n",
    "    answer = []\n",
    "    for i in text:\n",
    "        if i.isupper() == True:\n",
    "            answer.append(i)\n",
    "    print(''.join(answer))\n",
    "\n",
    "if __name__ == '__main__':\n",
    "    # These \"asserts\" using only for self-checking and not necessary for auto-testing\n",
    "    assert find_message(\"How are you? Eh, ok. Low or Lower? Ohhh.\") == \"HELLO\", \"hello\"\n",
    "    assert find_message(\"hello world!\") == \"\", \"Nothing\"\n",
    "    assert find_message(\"HELLO WORLD!!!\") == \"HELLOWORLD\", \"Capitals\"\n",
    "    print(\"Coding complete? Click 'Check' to review your tests and earn cool rewards!\")"
   ]
  },
  {
   "cell_type": "code",
   "execution_count": 56,
   "metadata": {},
   "outputs": [
    {
     "name": "stdout",
     "output_type": "stream",
     "text": [
      "4.766\n"
     ]
    }
   ],
   "source": [
    "checked = (1.234, 3, 4, 6)\n",
    "correct = max(checked) - min(checked)\n",
    "print('%.3f'%correct)"
   ]
  },
  {
   "cell_type": "code",
   "execution_count": 75,
   "metadata": {},
   "outputs": [
    {
     "name": "stdout",
     "output_type": "stream",
     "text": [
      "36\n"
     ]
    }
   ],
   "source": [
    "def checkio(array):\n",
    "    j = 1\n",
    "    evens = []\n",
    "    for i in array:\n",
    "        if j%2 !=0:\n",
    "            evens.append(i)\n",
    "        j += 1\n",
    "    sums = sum(evens)\n",
    "    try:\n",
    "        print(sums * max(array))\n",
    "    except ValueError:\n",
    "        print(\"An empty array = 0\")\n",
    "\n",
    "checkio([6])"
   ]
  },
  {
   "cell_type": "code",
   "execution_count": 81,
   "metadata": {},
   "outputs": [
    {
     "name": "stdout",
     "output_type": "stream",
     "text": [
      "\n"
     ]
    }
   ],
   "source": [
    "def find_message(text):\n",
    "    \"\"\"Find a secret message\"\"\"\n",
    "    answer = []\n",
    "    for i in text:\n",
    "        if i.isupper() == True:\n",
    "            answer.append(i)\n",
    "    print(''.join(answer))\n",
    "find_message(\"hello world!\")"
   ]
  }
 ],
 "metadata": {
  "kernelspec": {
   "display_name": "Python 3",
   "language": "python",
   "name": "python3"
  },
  "language_info": {
   "codemirror_mode": {
    "name": "ipython",
    "version": 3
   },
   "file_extension": ".py",
   "mimetype": "text/x-python",
   "name": "python",
   "nbconvert_exporter": "python",
   "pygments_lexer": "ipython3",
   "version": "3.6.4"
  }
 },
 "nbformat": 4,
 "nbformat_minor": 2
}
