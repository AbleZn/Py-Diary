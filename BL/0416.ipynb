{
 "cells": [
  {
   "cell_type": "code",
   "execution_count": 46,
   "metadata": {},
   "outputs": [
    {
     "name": "stdout",
     "output_type": "stream",
     "text": [
      "Coding complete? Click 'Check' to review your tests and earn cool rewards!\n"
     ]
    }
   ],
   "source": [
    "#Let's try some sorting. Here is an array with the specific rules.\n",
    "\n",
    "#The array (a tuple) has various numbers. You should sort it, but sort it by absolute value in ascending order. \n",
    "#For example, the sequence (-20, -5, 10, 15) will be sorted like so: (-5, 10, 15, -20). \n",
    "#Your function should return the sorted list or tuple.\n",
    "\n",
    "#Precondition: The numbers in the array are unique by their absolute values.\n",
    "\n",
    "#Input: An array of numbers , a tuple..\n",
    "\n",
    "#Output: The list or tuple (but not a generator) sorted by absolute values in ascending order.\n",
    "\n",
    "#Addition: The results of your function will be shown as a list in the tests explanation panel.\n",
    "\n",
    "def checkio(numbers_array):\n",
    "    array = list(numbers_array)\n",
    "    sort0 = []\n",
    "    while True:\n",
    "        if len(array) == 0:\n",
    "            break\n",
    "        n = max(array)\n",
    "        if len(sort0) == 0:\n",
    "            sort0.append(n)\n",
    "        elif len(sort0) != 0:\n",
    "            if n > 0:\n",
    "                sort0.insert(-2,n)\n",
    "            elif n < 0:\n",
    "                if abs(n) > max(sort0):\n",
    "                    sort0.append(n)\n",
    "                else:\n",
    "                    sort0.insert(0,n)\n",
    "            elif n == 0:\n",
    "                sort0.insert(0,n)\n",
    "        array.pop(array.index(n))\n",
    "    return(sort0)\n",
    "\n",
    "#These \"asserts\" using only for self-checking and not necessary for auto-testing\n",
    "if __name__ == '__main__':\n",
    "    def check_it(array):\n",
    "        if not isinstance(array, (list, tuple)):\n",
    "            raise TypeError(\"The result should be a list or tuple.\")\n",
    "        return list(array)\n",
    "\n",
    "    assert check_it(checkio((-20, -5, 10, 15))) == [-5, 10, 15, -20], \"Example\"  # or (-5, 10, 15, -20)\n",
    "    assert check_it(checkio((1, 2, 3, 0))) == [0, 1, 2, 3], \"Positive numbers\"\n",
    "    assert check_it(checkio((-1, -2, -3, 0))) == [0, -1, -2, -3], \"Negative numbers\"\n",
    "    print(\"Coding complete? Click 'Check' to review your tests and earn cool rewards!\")"
   ]
  },
  {
   "cell_type": "code",
   "execution_count": null,
   "metadata": {},
   "outputs": [],
   "source": [
    "#一行解\n",
    "def checkio(numbers_array):\n",
    "    return sorted(numbers_array, key=abs)"
   ]
  }
 ],
 "metadata": {
  "kernelspec": {
   "display_name": "Python 3",
   "language": "python",
   "name": "python3"
  },
  "language_info": {
   "codemirror_mode": {
    "name": "ipython",
    "version": 3
   },
   "file_extension": ".py",
   "mimetype": "text/x-python",
   "name": "python",
   "nbconvert_exporter": "python",
   "pygments_lexer": "ipython3",
   "version": "3.6.4"
  }
 },
 "nbformat": 4,
 "nbformat_minor": 2
}
