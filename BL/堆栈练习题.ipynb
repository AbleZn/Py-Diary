{
 "cells": [
  {
   "cell_type": "code",
   "execution_count": 4,
   "metadata": {},
   "outputs": [
    {
     "name": "stdout",
     "output_type": "stream",
     "text": [
      "y\n"
     ]
    }
   ],
   "source": [
    "#check if the elements in given list are equal\n",
    "l = ['hello', 'hello', 'hello', 'hello', 'hello']\n",
    "if len(set(l))==1:\n",
    "    print('y')\n",
    "else:\n",
    "    print('no')"
   ]
  },
  {
   "cell_type": "code",
   "execution_count": 40,
   "metadata": {},
   "outputs": [
    {
     "ename": "IndexError",
     "evalue": "list index out of range",
     "output_type": "error",
     "traceback": [
      "\u001b[0;31m---------------------------------------------------------------------------\u001b[0m",
      "\u001b[0;31mIndexError\u001b[0m                                Traceback (most recent call last)",
      "\u001b[0;32m<ipython-input-40-224fcf289780>\u001b[0m in \u001b[0;36m<module>\u001b[0;34m()\u001b[0m\n\u001b[1;32m     21\u001b[0m \u001b[0;34m\u001b[0m\u001b[0m\n\u001b[1;32m     22\u001b[0m \u001b[0;32mif\u001b[0m \u001b[0m__name__\u001b[0m \u001b[0;34m==\u001b[0m \u001b[0;34m'__main__'\u001b[0m\u001b[0;34m:\u001b[0m\u001b[0;34m\u001b[0m\u001b[0m\n\u001b[0;32m---> 23\u001b[0;31m     \u001b[0;32massert\u001b[0m \u001b[0mcheckio\u001b[0m\u001b[0;34m(\u001b[0m\u001b[0;34m\"((5+3)*2+1)\"\u001b[0m\u001b[0;34m)\u001b[0m \u001b[0;34m==\u001b[0m \u001b[0;32mTrue\u001b[0m\u001b[0;34m,\u001b[0m \u001b[0;34m\"Simple\"\u001b[0m\u001b[0;34m\u001b[0m\u001b[0m\n\u001b[0m\u001b[1;32m     24\u001b[0m     \u001b[0;32massert\u001b[0m \u001b[0mcheckio\u001b[0m\u001b[0;34m(\u001b[0m\u001b[0;34m\"{[(3+1)+2]+}\"\u001b[0m\u001b[0;34m)\u001b[0m \u001b[0;34m==\u001b[0m \u001b[0;32mTrue\u001b[0m\u001b[0;34m,\u001b[0m \u001b[0;34m\"Different types\"\u001b[0m\u001b[0;34m\u001b[0m\u001b[0m\n\u001b[1;32m     25\u001b[0m     \u001b[0;32massert\u001b[0m \u001b[0mcheckio\u001b[0m\u001b[0;34m(\u001b[0m\u001b[0;34m\"(3+{1-1)}\"\u001b[0m\u001b[0;34m)\u001b[0m \u001b[0;34m==\u001b[0m \u001b[0;32mFalse\u001b[0m\u001b[0;34m,\u001b[0m \u001b[0;34m\") is alone inside {}\"\u001b[0m\u001b[0;34m\u001b[0m\u001b[0m\n",
      "\u001b[0;32m<ipython-input-40-224fcf289780>\u001b[0m in \u001b[0;36mcheckio\u001b[0;34m(string)\u001b[0m\n\u001b[1;32m     15\u001b[0m     \u001b[0mn\u001b[0m \u001b[0;34m=\u001b[0m \u001b[0mlen\u001b[0m\u001b[0;34m(\u001b[0m\u001b[0mstr_pre\u001b[0m\u001b[0;34m)\u001b[0m\u001b[0;34m+\u001b[0m\u001b[0;36m1\u001b[0m\u001b[0;34m\u001b[0m\u001b[0m\n\u001b[1;32m     16\u001b[0m     \u001b[0;32mfor\u001b[0m \u001b[0mj\u001b[0m \u001b[0;32min\u001b[0m \u001b[0mrange\u001b[0m\u001b[0;34m(\u001b[0m\u001b[0;36m0\u001b[0m\u001b[0;34m,\u001b[0m\u001b[0mn\u001b[0m\u001b[0;34m)\u001b[0m\u001b[0;34m:\u001b[0m\u001b[0;34m\u001b[0m\u001b[0m\n\u001b[0;32m---> 17\u001b[0;31m         \u001b[0;32mif\u001b[0m \u001b[0mstr_sub\u001b[0m\u001b[0;34m[\u001b[0m\u001b[0mj\u001b[0m\u001b[0;34m]\u001b[0m \u001b[0;34m!=\u001b[0m \u001b[0mbrac\u001b[0m\u001b[0;34m.\u001b[0m\u001b[0mget\u001b[0m\u001b[0;34m(\u001b[0m\u001b[0mstr_pre\u001b[0m\u001b[0;34m[\u001b[0m\u001b[0mj\u001b[0m\u001b[0;34m]\u001b[0m\u001b[0;34m)\u001b[0m\u001b[0;34m:\u001b[0m\u001b[0;34m\u001b[0m\u001b[0m\n\u001b[0m\u001b[1;32m     18\u001b[0m             \u001b[0;32mreturn\u001b[0m \u001b[0;32mFalse\u001b[0m\u001b[0;34m\u001b[0m\u001b[0m\n\u001b[1;32m     19\u001b[0m         \u001b[0mj\u001b[0m \u001b[0;34m+=\u001b[0m \u001b[0;36m1\u001b[0m\u001b[0;34m\u001b[0m\u001b[0m\n",
      "\u001b[0;31mIndexError\u001b[0m: list index out of range"
     ]
    }
   ],
   "source": [
    "#You are given an expression with numbers, brackets and operators. For this task only the brackets matter.\n",
    "# Brackets come in three flavors: \"{}\" \"()\" or \"[]\". Brackets are used to determine scope or to restrict some expression.\n",
    "# If a bracket is open, then it must be closed with a closing bracket of the same type. The scope of a bracket must not\n",
    "# intersected by another bracket. In this task you should make a decision, whether to correct an expression or not based\n",
    "# on the brackets. Do not worry about operators and operands\n",
    "def checkio(string):\n",
    "    brac = {'(':')', '[':']', '{':'}'}\n",
    "    str_pre = []\n",
    "    str_sub = []\n",
    "    for i in string:\n",
    "        if i in brac.keys():\n",
    "            str_pre.append(i)\n",
    "        elif i in brac.values():\n",
    "            str_sub.append(i)\n",
    "    n = len(str_pre)+1\n",
    "    for j in range(0,n):\n",
    "        if str_sub[j] != brac.get(str_pre[j]):\n",
    "            return False\n",
    "        j += 1\n",
    "    return True\n",
    "        \n",
    "if __name__ == '__main__':\n",
    "    assert checkio(\"((5+3)*2+1)\") == True, \"Simple\"\n",
    "    assert checkio(\"{[(3+1)+2]+}\") == True, \"Different types\"\n",
    "    assert checkio(\"(3+{1-1)}\") == False, \") is alone inside {}\"\n",
    "    assert checkio(\"[1+1]+(2*2)-{3/3}\") == True, \"Different operators\"\n",
    "    assert checkio(\"(({[(((1)-2)+3)-3]/3}-3)\") == False, \"One is redundant\"\n",
    "    assert checkio(\"1\") == True, \"No brackets, no problem\"\n",
    "    assert checkio(\"()\") == True, \"Wrong\"\n",
    "    assert checkio(\"{\") == False, \"Wrong\"\n",
    "    \n",
    "    \n",
    "#答案\n",
    "operators = {  # 运算符操作表\n",
    "    '+': lambda op1, op2: op1 + op2,\n",
    "    '-': lambda op1, op2: op1 - op2,\n",
    "    '*': lambda op1, op2: op1 * op2,\n",
    "    '/': lambda op1, op2: op1 / op2,\n",
    "}\n",
    "def evalPostfix(e):\n",
    "    \"\"\"\n",
    "    :param e: 后缀表达式\n",
    "    :return: 正常情况下栈内的第一个元素就是计算好之后的值\n",
    "    \"\"\"\n",
    "    tokens = e.split()  # 把传过来的后缀表达式切分成列表\n",
    "    stack = []\n",
    "    for token in tokens:  # 迭代列表中的元素\n",
    "        if token.isdigit():  # 如果当前元素是数字\n",
    "            stack.append(int(token))  # 就追加到栈里边\n",
    "        elif token in operators.keys():  # 如果当前元素是操作符\n",
    "            f = operators[token]  # 获取运算符操作表中对应的lambda表达式\n",
    "            op2 = stack.pop()  # 根据先进后出的原则，先让第二个元素出栈\n",
    "            op1 = stack.pop()  # 在让第一个元素出栈\n",
    "            stack.append(f(op1, op2))  # 把计算的结果在放入到栈内\n",
    "    return stack.pop()  # 返回栈内的第一个元素\n",
    "result = evalPostfix('2 3 4 * +')\n",
    "print(result)"
   ]
  },
  {
   "cell_type": "code",
   "execution_count": 50,
   "metadata": {},
   "outputs": [
    {
     "name": "stdout",
     "output_type": "stream",
     "text": [
      "0.2857142857142857\n"
     ]
    }
   ],
   "source": [
    "#后缀计算 - copy from http://python.jobbole.com/87581/\n",
    "operators = {  # 运算符操作表\n",
    "    '+': lambda op1, op2: op1 + op2,\n",
    "    '-': lambda op1, op2: op1 - op2,\n",
    "    '*': lambda op1, op2: op1 * op2,\n",
    "    '/': lambda op1, op2: op1 / op2,\n",
    "}\n",
    "def evalPostfix(e):\n",
    "    \"\"\"\n",
    "    :param e: 后缀表达式\n",
    "    :return: 正常情况下栈内的第一个元素就是计算好之后的值\n",
    "    \"\"\"\n",
    "    tokens = e.split()  # 把传过来的后缀表达式切分成列表\n",
    "    stack = []\n",
    "    for token in tokens:  # 迭代列表中的元素\n",
    "        if token.isdigit():  # 如果当前元素是数字\n",
    "            stack.append(int(token))  # 就追加到栈里边\n",
    "        elif token in operators.keys():  # 如果当前元素是操作符\n",
    "            f = operators[token]  # 获取运算符操作表中对应的lambda表达式\n",
    "            op2 = stack.pop()  # 根据先进后出的原则，先让第二个元素出栈\n",
    "            op1 = stack.pop()  # 在让第一个元素出栈\n",
    "            stack.append(f(op1, op2))  # 把计算的结果在放入到栈内\n",
    "    return stack.pop()  # 返回栈内的第一个元素\n",
    "result = evalPostfix('2 3 4 1 * + /')\n",
    "print(result)"
   ]
  },
  {
   "cell_type": "code",
   "execution_count": 83,
   "metadata": {},
   "outputs": [
    {
     "name": "stdout",
     "output_type": "stream",
     "text": [
      "['*', '3', '-', '2', '+', '5', '1']\n",
      "-12\n"
     ]
    }
   ],
   "source": [
    "#波兰式计算 - by myself\n",
    "operators = {  # 运算符操作表\n",
    "    '+': lambda op1, op2: op1 + op2,\n",
    "    '-': lambda op1, op2: op1 - op2,\n",
    "    '*': lambda op1, op2: op1 * op2,\n",
    "    '/': lambda op1, op2: op1 / op2,\n",
    "}\n",
    "def culPre(s):\n",
    "    tokens = s.split()\n",
    "    print(tokens)\n",
    "    stack = []\n",
    "    for token in tokens:\n",
    "        if token in operators.keys():\n",
    "            stack.append(token)\n",
    "        elif token.isdigit():\n",
    "            stack.append(int(token))\n",
    "            while stack[-2] not in operators.keys():\n",
    "                op2 = stack.pop()\n",
    "                op1 = stack.pop()\n",
    "                fu = stack.pop()\n",
    "                if fu in operators.keys():\n",
    "                    f = operators[fu]\n",
    "                    stack.append(f(op1, op2))\n",
    "                    if len(stack) == 1:\n",
    "                        break\n",
    "    return stack.pop()\n",
    "result = culPre('* 3 - 2 + 5 1')\n",
    "print(result)"
   ]
  },
  {
   "cell_type": "code",
   "execution_count": null,
   "metadata": {},
   "outputs": [],
   "source": []
  }
 ],
 "metadata": {
  "kernelspec": {
   "display_name": "Python 3",
   "language": "python",
   "name": "python3"
  },
  "language_info": {
   "codemirror_mode": {
    "name": "ipython",
    "version": 3
   },
   "file_extension": ".py",
   "mimetype": "text/x-python",
   "name": "python",
   "nbconvert_exporter": "python",
   "pygments_lexer": "ipython3",
   "version": "3.6.4"
  }
 },
 "nbformat": 4,
 "nbformat_minor": 2
}
