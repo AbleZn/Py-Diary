{
 "cells": [
  {
   "cell_type": "code",
   "execution_count": 1,
   "metadata": {},
   "outputs": [
    {
     "name": "stdout",
     "output_type": "stream",
     "text": [
      "matchObj.group() :  Cats are smarter than dogs.\n",
      "matchObj.group(1) :  Cats\n",
      "matchObj.group(2) :  smarter\n"
     ]
    }
   ],
   "source": [
    "#原题\n",
    "import re\n",
    "\n",
    "line = 'Cats are smarter than dogs.'\n",
    "\n",
    "matchObj = re.match(r'(.*) are (.*?) .*',line,re.M | re.I)\n",
    "# .* *匹配0次或无数次——something 存在或不存在都可以\n",
    "# .+ +匹配1次或者无数次，必须存在\n",
    "# .*? 懒惰模式\n",
    "if matchObj:\n",
    "    print('matchObj.group() : ', matchObj.group())\n",
    "    print('matchObj.group(1) : ', matchObj.group(1))\n",
    "    print('matchObj.group(2) : ', matchObj.group(2))\n",
    "else:\n",
    "    print('not matched')"
   ]
  },
  {
   "cell_type": "code",
   "execution_count": 5,
   "metadata": {},
   "outputs": [
    {
     "name": "stdout",
     "output_type": "stream",
     "text": [
      "matchObj.group() :  Some cats are smarter than dogs.\n",
      "matchObj.group(1) :  Some cats\n",
      "matchObj.group(2) :  smarter than dogs.\n"
     ]
    }
   ],
   "source": [
    "import re\n",
    "\n",
    "line = 'Some cats are smarter than dogs.'\n",
    "\n",
    "matchObj = re.match(r'(.*) are (.*)',line,re.M | re.I)\n",
    "# .*\n",
    "if matchObj:\n",
    "    print('matchObj.group() : ', matchObj.group())\n",
    "    print('matchObj.group(1) : ', matchObj.group(1))\n",
    "    print('matchObj.group(2) : ', matchObj.group(2))\n",
    "else:\n",
    "    print('not matched')"
   ]
  },
  {
   "cell_type": "code",
   "execution_count": 6,
   "metadata": {},
   "outputs": [
    {
     "name": "stdout",
     "output_type": "stream",
     "text": [
      "matchObj.group() :  Some cats are smarter than dogs.\n",
      "matchObj.group(1) :  Some cats\n",
      "matchObj.group(2) :  smarter than\n"
     ]
    }
   ],
   "source": [
    "import re\n",
    "\n",
    "line = 'Some cats are smarter than dogs.'\n",
    "\n",
    "matchObj = re.match(r'(.*) are (.*) .*',line,re.M | re.I)\n",
    "# .*\n",
    "if matchObj:\n",
    "    print('matchObj.group() : ', matchObj.group())\n",
    "    print('matchObj.group(1) : ', matchObj.group(1))\n",
    "    print('matchObj.group(2) : ', matchObj.group(2))\n",
    "    #这里没有设其他第三组，但是dogs应可以当做在最后一个.*中\n",
    "else:\n",
    "    print('not matched')"
   ]
  }
 ],
 "metadata": {
  "kernelspec": {
   "display_name": "Python 3",
   "language": "python",
   "name": "python3"
  },
  "language_info": {
   "codemirror_mode": {
    "name": "ipython",
    "version": 3
   },
   "file_extension": ".py",
   "mimetype": "text/x-python",
   "name": "python",
   "nbconvert_exporter": "python",
   "pygments_lexer": "ipython3",
   "version": "3.6.4"
  }
 },
 "nbformat": 4,
 "nbformat_minor": 2
}
