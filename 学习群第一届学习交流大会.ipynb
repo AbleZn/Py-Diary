{
 "cells": [
  {
   "cell_type": "code",
   "execution_count": null,
   "metadata": {},
   "outputs": [],
   "source": [
    "面向对象&面向过程\n",
    "面向对象：针对每一个题来编程，调用方法抽象化\n",
    "    - 如内建函数已经定义好，可以进行调用\n",
    "    三大特点\n",
    "        - 封装：\n",
    "            简明扼要\n",
    "            区域保护（定义成私有、保护、公开）\n",
    "                - def __eat() 私有 只能在这个包中使用，不能import到其他文件中\n",
    "                - def _eat() 保护 可以import **里调用。\n",
    "                - def eat() 公开\n",
    "        - 继承\n",
    "        - 多态（Python不具有多态，Java、C++等都有）\n",
    "            但可以用override重载\n",
    "            def eat()\n",
    "            @override\n",
    "            def eat() 但是第一个eat会被覆盖\n",
    "面向过程：告诉电脑怎么做\n",
    "    - 定义函数的过程\n",
    "    \n",
    "类Class：用来描述具有相同的对象和属性的方法的集合。 类 = 类属性（类变量）+ 类方法（函数）\n",
    "    属性：是什么\n",
    "    方法：能做什么\n",
    "\n",
    "    self是什么？ ——实例\n",
    "        miaomiao = Cat() \n",
    "        self = miaomiao\n",
    "        self.name = miaomiao.name\n",
    "        如果不带self,就是对Cat进行处理。\n",
    "    类方法和普通函数有什么区别？ ——参数里必须带self\n",
    "    如何调用类属性？——Cat.name\n",
    "    如何调用实例属性？——miaomiao.name\n",
    "    如何利用实例调用变量？\n",
    "        class People():\n",
    "            amount = 0\n",
    "            def ....\n",
    "        zhangsan = People()\n",
    "        zhangsan._class_.amount\n",
    "    已知类 怎么调用实例？ 无法调用，因为实例是特例，大类是普遍性\n",
    "    内属性： \n",
    "        __name__类名\n",
    "        __dict__类属性列表\n",
    "        __doc__类说明文件\n",
    "        __module__ 从哪里import进来的\n",
    "        子类.__bases__ 获得父类\n",
    "    类方法（def function_name(self,....)）\n",
    "        self.__name 实例的私有化\n",
    "        如何访问想访问私有的怎么办？\n",
    "            def getName(self):\n",
    "                return self.__name ——唯一调用私有name的方法\n",
    "    子类&父类：\n",
    "        super() == 父类()\n",
    "        多重继承，如果子类下有子类，那么super().__init__将继承最高级的类"
   ]
  },
  {
   "cell_type": "code",
   "execution_count": null,
   "metadata": {},
   "outputs": [],
   "source": [
    "class Foo(object):\n",
    "    val = 0  #类变量\n",
    "\n",
    "    def __init__(self):\n",
    "        self.val = 1  #实例变量\n",
    "\n",
    "\n",
    "if __name__ == '__main__':\n",
    "    foo = Foo()\n",
    "    print(foo.val)\n",
    "    print(Foo.val)"
   ]
  },
  {
   "cell_type": "code",
   "execution_count": null,
   "metadata": {},
   "outputs": [],
   "source": []
  }
 ],
 "metadata": {
  "kernelspec": {
   "display_name": "Python 3",
   "language": "python",
   "name": "python3"
  },
  "language_info": {
   "codemirror_mode": {
    "name": "ipython",
    "version": 3
   },
   "file_extension": ".py",
   "mimetype": "text/x-python",
   "name": "python",
   "nbconvert_exporter": "python",
   "pygments_lexer": "ipython3",
   "version": "3.6.4"
  }
 },
 "nbformat": 4,
 "nbformat_minor": 2
}
