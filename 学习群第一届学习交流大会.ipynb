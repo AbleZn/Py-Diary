面向对象&面向过程
面向对象：针对每一个题来编程，调用方法抽象化
    - 如内建函数已经定义好，可以进行调用
    三大特点
        - 封装：
            简明扼要
            区域保护（定义成私有、保护、公开）
                - def __eat() 私有 只能在这个包中使用，不能import到其他文件中
                - def _eat() 保护 可以import **里调用。
                - def eat() 公开
        - 继承
        - 多态（Python不具有多态，Java、C++等都有）
            但可以用override重载
            def eat()
            @override
            def eat() 但是第一个eat会被覆盖
面向过程：告诉电脑怎么做
    - 定义函数的过程
    
类Class：用来描述具有相同的对象和属性的方法的集合。 类 = 类属性（类变量）+ 类方法（函数）
    属性：是什么
    方法：能做什么

    self是什么？ ——实例
        miaomiao = Cat() 
        self = miaomiao
        self.name = miaomiao.name
        如果不带self,就是对Cat进行处理。
    类方法和普通函数有什么区别？ ——参数里必须带self
    如何调用类属性？——Cat.name
    如何调用实例属性？——miaomiao.name
    如何利用实例调用变量？
        class People():
            amount = 0
            def ....
        zhangsan = People()
        zhangsan._class_.amount
    已知类 怎么调用实例？ 无法调用，因为实例是特例，大类是普遍性
    内属性： 
        __name__类名
        __dict__类属性列表
        __doc__类说明文件
        __module__ 从哪里import进来的
        子类.__bases__ 获得父类
    类方法（def function_name(self,....)）
        self.__name 实例的私有化
        如何访问想访问私有的怎么办？
            def getName(self):
                return self.__name ——唯一调用私有name的方法
    子类&父类：
        super() == 父类()
        多重继承，如果子类下有子类，那么super().__init__将继承最高级的类},
  {
   "cell_type": "code",
   "execution_count": null,
   "metadata": {},
   "outputs": [],
   "source": [
    "class Foo(object):\n",
    "    val = 0  #类变量\n",
    "\n",
    "    def __init__(self):\n",
    "        self.val = 1  #实例变量\n",
    "\n",
    "\n",
    "if __name__ == '__main__':\n",
    "    foo = Foo()\n",
    "    print(foo.val)\n",
    "    print(Foo.val)"
   ]
  },
  {
   "cell_type": "code",
   "execution_count": null,
   "metadata": {},
   "outputs": [],
   "source": []
  }
 ],
 "metadata": {
  "kernelspec": {
   "display_name": "Python 3",
   "language": "python",
   "name": "python3"
  },
  "language_info": {
   "codemirror_mode": {
    "name": "ipython",
    "version": 3
   },
   "file_extension": ".py",
   "mimetype": "text/x-python",
   "name": "python",
   "nbconvert_exporter": "python",
   "pygments_lexer": "ipython3",
   "version": "3.6.4"
  }
 },
 "nbformat": 4,
 "nbformat_minor": 2
}
