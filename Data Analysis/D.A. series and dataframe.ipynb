{
 "cells": [
  {
   "cell_type": "code",
   "execution_count": 12,
   "metadata": {},
   "outputs": [
    {
     "name": "stdout",
     "output_type": "stream",
     "text": [
      "0    a\n",
      "1    b\n",
      "2    1\n",
      "3    8\n",
      "0    2\n",
      "dtype: object\n",
      "0    a\n",
      "0    2\n",
      "dtype: object\n"
     ]
    }
   ],
   "source": [
    "from pandas import Series\n",
    "#Define a series\n",
    "x = Series(['a','b',1,8])\n",
    "x[3] == 8\n",
    "\n",
    "#change index\n",
    "x1 = Series(['a','b','ww',1,2],\n",
    "          index = [1, 'two', 3, 4, 5])\n",
    "x1[3] == 'ww' #按照索引访问，不能越界\n",
    "\n",
    "#append a new seq\n",
    "n = Series(['2'])\n",
    "x = x.append(n)\n",
    "    #result\n",
    "    #0    a\n",
    "    #1    b\n",
    "    #2    1\n",
    "    #3    8\n",
    "    #0    2\n",
    "\n",
    "#determine\n",
    "'2' in x.values\n",
    "\n",
    "#切片\n",
    "x[1,3]\n",
    "#random\n",
    "x[[0，2，1]]\n",
    "\n",
    "#delete with index\n",
    "x.drop(0)\n",
    "x1.drop('two')\n",
    "#delete with position\n",
    "x.drop(x.index[2])\n",
    "#delete with values\n",
    "x.['2' != x.values]"
   ]
  },
  {
   "cell_type": "code",
   "execution_count": 22,
   "metadata": {},
   "outputs": [
    {
     "name": "stdout",
     "output_type": "stream",
     "text": [
      "   age name\n",
      "一   11    a\n",
      "二   12    b\n",
      "三   14    c\n"
     ]
    },
    {
     "data": {
      "text/plain": [
       "一    11\n",
       "二    12\n",
       "三    14\n",
       "Name: age, dtype: int64"
      ]
     },
     "execution_count": 22,
     "metadata": {},
     "output_type": "execute_result"
    }
   ],
   "source": [
    "from pandas import DataFrame\n",
    "df = DataFrame({\n",
    "    'age':[11,12,14],\n",
    "    'name':['a','b','c']\n",
    "}, index=['一','二','三'])\n",
    "print(df)\n",
    "\n",
    "#按列访问\n",
    "df['age']\n",
    "df[['age','name']]\n",
    "\n",
    "#按行访问\n",
    "df[1:2]\n",
    "\n",
    "#按行索引访问\n",
    "df.loc['一','二']\n",
    "\n",
    "#按行索引，列名进行访问\n",
    "df.at['一','name']\n",
    "\n",
    "#修改列名\n",
    "df.columns\n",
    "df.columns['age1', 'name1']\n",
    "\n",
    "#修改索引\n",
    "df.index\n",
    "df.index=range(1,4)\n",
    "\n",
    "#根据行索引删除\n",
    "df.drop('一',axis=0) #axis 默认0\n",
    "#根据列名删除\n",
    "df.drop('age',axis=1)"
   ]
  },
  {
   "cell_type": "code",
   "execution_count": null,
   "metadata": {},
   "outputs": [],
   "source": []
  }
 ],
 "metadata": {
  "kernelspec": {
   "display_name": "Python 3",
   "language": "python",
   "name": "python3"
  },
  "language_info": {
   "codemirror_mode": {
    "name": "ipython",
    "version": 3
   },
   "file_extension": ".py",
   "mimetype": "text/x-python",
   "name": "python",
   "nbconvert_exporter": "python",
   "pygments_lexer": "ipython3",
   "version": "3.6.4"
  }
 },
 "nbformat": 4,
 "nbformat_minor": 2
}
